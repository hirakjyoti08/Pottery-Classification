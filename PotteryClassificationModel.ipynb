{
  "cells": [
    {
      "cell_type": "code",
      "execution_count": null,
      "metadata": {
        "id": "WHFuMtGUZFKi",
        "colab": {
          "base_uri": "https://localhost:8080/"
        },
        "outputId": "9dc5a15e-33a6-425f-b377-a35011ff0b67"
      },
      "outputs": [
        {
          "output_type": "stream",
          "name": "stdout",
          "text": [
            "Drive already mounted at /content/drive; to attempt to forcibly remount, call drive.mount(\"/content/drive\", force_remount=True).\n"
          ]
        }
      ],
      "source": [
        "from google.colab import drive\n",
        "drive.mount('/content/drive')\n",
        "\n",
        "# /content/drive/MyDrive/AiHackathon/AiImage"
      ]
    },
    {
      "cell_type": "markdown",
      "metadata": {
        "id": "ZzjAQPsGC0n-"
      },
      "source": [
        "#import libraries"
      ]
    },
    {
      "cell_type": "code",
      "execution_count": null,
      "metadata": {
        "id": "aekXr9hmZMK9"
      },
      "outputs": [],
      "source": [
        "\n",
        "import os\n",
        "import cv2\n",
        "import numpy as np\n",
        "from keras import backend as k\n",
        "import matplotlib.pyplot as plt"
      ]
    },
    {
      "cell_type": "code",
      "execution_count": null,
      "metadata": {
        "id": "me1yIK0YZWH0"
      },
      "outputs": [],
      "source": [
        "import tensorflow as tf\n",
        "import scipy\n",
        "from tensorflow.keras.models import Sequential, load_model\n",
        "from tensorflow.keras.layers import Dense, Dropout, Activation, Flatten, Conv2D, MaxPooling2D, GlobalAveragePooling2D,BatchNormalization,AveragePooling2D\n",
        "from tensorflow.keras.callbacks import TensorBoard\n",
        "from datetime import datetime"
      ]
    },
    {
      "cell_type": "markdown",
      "metadata": {
        "id": "0TzI3gS_EIC0"
      },
      "source": [
        "#Creating the dataset, resizing, applying greyscale filter\n"
      ]
    },
    {
      "cell_type": "code",
      "execution_count": null,
      "metadata": {
        "id": "OOlKbXV0ZZlP"
      },
      "outputs": [],
      "source": [
        "dataDir_Tr = \"/content/drive/MyDrive/AiHackathon/AiImage\"\n",
        "dataDir_Ts = \"/content/drive/MyDrive/AiHackathon/testData\"\n",
        "CATEGORIES = [\"clay cups\",\"clay doll\",\"clay flower pot\",\"kalah\",\"saaki\"]\n",
        "IMG_SIZE = 50"
      ]
    },
    {
      "cell_type": "code",
      "execution_count": null,
      "metadata": {
        "id": "8l4O_ijxasZU"
      },
      "outputs": [],
      "source": [
        "\n",
        "training_data = []\n",
        "testing_data = []\n",
        "\n",
        "def create_training_data(dataDir,X):\n",
        "    for category in CATEGORIES:\n",
        "        path = os.path.join(dataDir, category)  #path for the image\n",
        "        class_num = CATEGORIES.index(category)  \n",
        "        for img in os.listdir(path):\n",
        "            try:\n",
        "                img_array = cv2.imread(os.path.join(path,img), cv2.IMREAD_GRAYSCALE)  #reading the image in grayscale \n",
        "                new_array = cv2.resize(img_array, (IMG_SIZE, IMG_SIZE))  ##resizing the image\n",
        "                X.append([new_array, class_num])  #Appending the images into an array\n",
        "            except Exception as e:\n",
        "                pass\n",
        "\n",
        "create_training_data(dataDir_Tr,training_data)\n",
        "create_training_data(dataDir_Ts,testing_data)"
      ]
    },
    {
      "cell_type": "markdown",
      "metadata": {
        "id": "1ZIf6d7LHqa2"
      },
      "source": [
        "# Convert To Numpy Array and Normalizing The Array"
      ]
    },
    {
      "cell_type": "code",
      "execution_count": null,
      "metadata": {
        "id": "7yukHqyXkThq"
      },
      "outputs": [],
      "source": [
        "#for training_data array\n",
        "X = []\n",
        "y = []\n",
        "\n",
        "for featuresTrain, labelTrain in training_data: #tagging the images\n",
        "    X.append(featuresTrain)\n",
        "    y.append(labelTrain)\n",
        "\n",
        "X = np.array(X).reshape(-1,IMG_SIZE, IMG_SIZE, 1)  #reshaping the array\n",
        "\n",
        "#converting the array to numpy array\n",
        "X_tr = np.asarray(X)  \n",
        "X_tr = X_tr.astype('float32')\n",
        "Y_tr = np.asarray(y)\n",
        "X_tr /= 255  #normalizing the array to range between 0 and 1\n"
      ]
    },
    {
      "cell_type": "code",
      "execution_count": null,
      "metadata": {
        "id": "Q9kkvOubhzsq"
      },
      "outputs": [],
      "source": [
        "#for testing_data array\n",
        "P = []\n",
        "q = []\n",
        "\n",
        "for featuresTest, labelTest in testing_data:  #tagging the images\n",
        "    P.append(featuresTest)\n",
        "    q.append(labelTest)\n",
        "    \n",
        "P = np.array(P).reshape(-1,IMG_SIZE, IMG_SIZE, 1)  #reshaping the array\n",
        "\n",
        "#converting the array to numpy array\n",
        "P_ts = np.asarray(P)\n",
        "Q_ts = np.asarray(q)\n",
        "P_ts = P_ts.astype('float32')\n",
        "P_ts /= 255  #normalizing the array to range between 0 and 1\n"
      ]
    },
    {
      "cell_type": "markdown",
      "metadata": {
        "id": "fPlJfeL1J8Do"
      },
      "source": [
        "#Creating Log Report"
      ]
    },
    {
      "cell_type": "code",
      "execution_count": null,
      "metadata": {
        "id": "oPFELZRLeL56"
      },
      "outputs": [],
      "source": [
        "#path for log files\n",
        "NAME = \"potteryClassification-cnn-{}\"\n",
        "logdir=\"/content/drive/MyDrive/AiHackathon/logs/\"+ datetime.now().strftime(\"%Y-%m-%d[%Hh %Mm %Ss]\")+NAME\n",
        "tb = TensorBoard(log_dir= logdir)"
      ]
    },
    {
      "cell_type": "markdown",
      "metadata": {
        "id": "250eoaLuKduL"
      },
      "source": [
        "#Creating CNN Model"
      ]
    },
    {
      "cell_type": "code",
      "execution_count": null,
      "metadata": {
        "id": "TJuSHeX6oDPF"
      },
      "outputs": [],
      "source": [
        "model = Sequential()\n",
        "\n",
        "model.add(Conv2D(32, (5, 5), strides = (1, 1), input_shape = (IMG_SIZE, IMG_SIZE, 1)))\n",
        "model.add(BatchNormalization(axis = 3))\n",
        "model.add(Activation('relu'))\n",
        "model.add(MaxPooling2D((2, 2)))\n",
        "\n",
        "model.add(Conv2D(64, (3, 3), strides = (1,1)))\n",
        "model.add(Activation('relu'))\n",
        "model.add(AveragePooling2D((3, 3)))\n",
        "\n",
        "model.add(Conv2D(64, (3,3)))\n",
        "model.add(Activation(\"relu\"))\n",
        "model.add(MaxPooling2D(pool_size=(2,2)))\n",
        "model.add(GlobalAveragePooling2D())\n",
        "model.add(Dense(300, activation=\"relu\"))\n",
        "model.add(Dropout(0.5))\n",
        "\n",
        "model.add(Flatten())\n",
        "model.add(Dense(5,activation='softmax'))"
      ]
    },
    {
      "cell_type": "markdown",
      "metadata": {
        "id": "nw7XhirNKs9v"
      },
      "source": [
        "#Compile And Run "
      ]
    },
    {
      "cell_type": "code",
      "execution_count": null,
      "metadata": {
        "id": "6rMW5zXGpAEP"
      },
      "outputs": [],
      "source": [
        "model.compile(optimizer=tf.keras.optimizers.Adam(),loss='sparse_categorical_crossentropy',metrics=['accuracy'])\n"
      ]
    },
    {
      "cell_type": "code",
      "execution_count": null,
      "metadata": {
        "id": "W7V6j7-fpBKP"
      },
      "outputs": [],
      "source": [
        "Epoch_no = 80\n",
        "Model = model.fit(X_tr,Y_tr,epochs = Epoch_no,validation_split=0.1,batch_size=32,validation_data=(P_ts,Q_ts),callbacks=[[tb]])\n",
        "score = model.evaluate(X_tr,Y_tr,verbose=0)\n"
      ]
    },
    {
      "cell_type": "code",
      "execution_count": null,
      "metadata": {
        "id": "NmIBsjogFg43"
      },
      "outputs": [],
      "source": [
        "print(\"Test set loss: \", score[0])\n",
        "print(\"Test set accuracy: \", score[1]*100)\n",
        "\n",
        "epoch_range = range(1, Epoch_no+1)\n",
        "plt.plot(epoch_range,Model.history['accuracy'])\n",
        "plt.plot(epoch_range,Model.history['val_accuracy'])\n",
        "plt.title('Classification Accuracy')\n",
        "plt.ylabel('Accuracy')\n",
        "plt.xlabel('Epoch')\n",
        "plt.legend(['Train','val'], loc = 'lower right')\n",
        "plt.show()\n",
        "\n",
        "plt.plot(epoch_range,Model.history['loss'])\n",
        "plt.plot(epoch_range,Model.history['val_loss'])\n",
        "plt.title('Model loss')\n",
        "plt.ylabel('loss')\n",
        "plt.xlabel('Epoch')\n",
        "plt.legend(['Train','val'], loc = 'lower right')\n",
        "plt.show()"
      ]
    },
    {
      "cell_type": "code",
      "execution_count": null,
      "metadata": {
        "id": "ntVpbOu1NOD6"
      },
      "outputs": [],
      "source": [
        "print(\"%s:  %2f%%\"%(model.metrics_names[1], score[1]*100))"
      ]
    },
    {
      "cell_type": "markdown",
      "metadata": {
        "id": "ejVRMGttK1Sm"
      },
      "source": [
        "#Saving The Model"
      ]
    },
    {
      "cell_type": "code",
      "execution_count": null,
      "metadata": {
        "id": "wmgWWJ4j6QR5"
      },
      "outputs": [],
      "source": [
        "model.save(f\"/content/drive/MyDrive/AiHackathon/trainedModel/model.h5\")\n",
        "model.save_weights(\"/content/drive/MyDrive/AiHackathon/trainedModel/Weights.h5\")"
      ]
    },
    {
      "cell_type": "markdown",
      "metadata": {
        "id": "SjWGpme5TXcN"
      },
      "source": [
        "#Predicting Images"
      ]
    },
    {
      "cell_type": "code",
      "execution_count": null,
      "metadata": {
        "id": "btfWK4irYL-Y"
      },
      "outputs": [],
      "source": [
        "from sre_constants import CATEGORY\n",
        "model = tf.keras.models.load_model(\"/content/drive/MyDrive/AiHackathon/trainedModel/model.h5\")  #loading the model\n",
        "\n",
        "filename = input(\"Enter the path of the image: \")  #taking the image path as user input\n",
        "def predict(filename, model):\n",
        "  \n",
        "  img = cv2.imread(filename,cv2.IMREAD_GRAYSCALE)  #reading the image\n",
        "  plt.imshow(img)\n",
        "  plt.show()\n",
        "\n",
        "  img = cv2.resize(img, (IMG_SIZE, IMG_SIZE))\n",
        "  img =np.array(img).reshape(-1,IMG_SIZE, IMG_SIZE, 1)\n",
        "  img = np.asarray(img)\n",
        "  img = img.astype('float32')\n",
        "  img /= 255.0\n",
        "  result = model.predict(img)  #using the model to predict the image\n",
        "\n",
        "  dict_result = {}\n",
        "  for i in range(5):\n",
        "    dict_result[result[0][i]] = CATEGORIES[i]\n",
        "  \n",
        "  res = result[0]\n",
        "  res.sort()  #sorting the result\n",
        "  res = res[::-1]\n",
        "  prob = res[:5]\n",
        "\n",
        "  prob_result = []\n",
        "  cat_result = []\n",
        "\n",
        "  for i in range(5):\n",
        "    prob_result.append((prob[i]*100).round(2))\n",
        "    cat_result.append(dict_result[prob[i]])\n",
        "  \n",
        "  for c in range(len(CATEGORIES)):\n",
        "   print(f\"{cat_result[c]}: {prob_result[c]}%\") #displaying\n",
        "  \n",
        "  # return cat_result, prob_result\n",
        "\n",
        "predict(filename,model)"
      ]
    }
  ],
  "metadata": {
    "colab": {
      "provenance": []
    },
    "kernelspec": {
      "display_name": "Python 3",
      "name": "python3"
    },
    "language_info": {
      "name": "python"
    }
  },
  "nbformat": 4,
  "nbformat_minor": 0
}